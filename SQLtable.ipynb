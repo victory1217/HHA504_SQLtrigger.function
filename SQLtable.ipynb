{
  "nbformat": 4,
  "nbformat_minor": 0,
  "metadata": {
    "colab": {
      "name": "SQLtable.ipynb",
      "provenance": [],
      "authorship_tag": "ABX9TyM3+t6AyBg49YMOfa8Vic6W",
      "include_colab_link": true
    },
    "kernelspec": {
      "name": "python3",
      "display_name": "Python 3"
    },
    "language_info": {
      "name": "python"
    }
  },
  "cells": [
    {
      "cell_type": "markdown",
      "metadata": {
        "id": "view-in-github",
        "colab_type": "text"
      },
      "source": [
        "<a href=\"https://colab.research.google.com/github/victory1217/HHA504_SQLtrigger.function/blob/main/SQLtable.ipynb\" target=\"_parent\"><img src=\"https://colab.research.google.com/assets/colab-badge.svg\" alt=\"Open In Colab\"/></a>"
      ]
    },
    {
      "cell_type": "markdown",
      "metadata": {
        "id": "h4zSDfNmqm23"
      },
      "source": [
        "##Step 1 - Import any needed packages"
      ]
    },
    {
      "cell_type": "code",
      "metadata": {
        "colab": {
          "base_uri": "https://localhost:8080/"
        },
        "id": "H_djV_5WlMSW",
        "outputId": "71c10da3-c334-43ee-d436-c0725c1469a1"
      },
      "source": [
        "import pandas as pd \n",
        "import sqlalchemy \n",
        "from sqlalchemy import create_engine\n",
        "!pip install pymysql "
      ],
      "execution_count": 10,
      "outputs": [
        {
          "output_type": "stream",
          "name": "stdout",
          "text": [
            "Requirement already satisfied: pymysql in /usr/local/lib/python3.7/dist-packages (1.0.2)\n"
          ]
        }
      ]
    },
    {
      "cell_type": "markdown",
      "metadata": {
        "id": "mlduMz6Oqv5Q"
      },
      "source": [
        "##Step 2 - Manually create quick table in Google Collab "
      ]
    },
    {
      "cell_type": "code",
      "metadata": {
        "colab": {
          "base_uri": "https://localhost:8080/",
          "height": 290
        },
        "id": "CyoAFY8jlVUj",
        "outputId": "ff85e9a5-34bf-4c3d-964c-80a14b182ff9"
      },
      "source": [
        "proceduregrouper = pd.DataFrame ({'PatientID' : ['1111', '2222', '3333', '4444', '5555', '6666', '7777', '8888'], 'LastName' : ['Roberts', 'Gonzalez', 'McMillin', 'Silva', 'Anthony', 'Washington', 'Martinez', 'Rodriguez'], 'FirstName' : ['Veronica', 'Jacqueline', 'Miranda', 'Joshua', 'Xavier', 'Mike', 'Jennifer', 'Allen'], \n",
        "                             'SystolicBloodPressure':['121', '120.5', '140', '131', '138.7', '119', '142', '118'], 'ProcedureCode': ['169553002', '117015009', '301807007', '430193006', '288086009', '76601001', '5880005', '11466000'], \n",
        "                             'ProcedureCost' : ['14896.56', '2070.44', '12914.35', '416.69', '11354.55', '3001.57', '516.65', '612.34']})\n",
        "proceduregrouper"
      ],
      "execution_count": 11,
      "outputs": [
        {
          "output_type": "execute_result",
          "data": {
            "text/html": [
              "<div>\n",
              "<style scoped>\n",
              "    .dataframe tbody tr th:only-of-type {\n",
              "        vertical-align: middle;\n",
              "    }\n",
              "\n",
              "    .dataframe tbody tr th {\n",
              "        vertical-align: top;\n",
              "    }\n",
              "\n",
              "    .dataframe thead th {\n",
              "        text-align: right;\n",
              "    }\n",
              "</style>\n",
              "<table border=\"1\" class=\"dataframe\">\n",
              "  <thead>\n",
              "    <tr style=\"text-align: right;\">\n",
              "      <th></th>\n",
              "      <th>PatientID</th>\n",
              "      <th>LastName</th>\n",
              "      <th>FirstName</th>\n",
              "      <th>SystolicBloodPressure</th>\n",
              "      <th>ProcedureCode</th>\n",
              "      <th>ProcedureCost</th>\n",
              "    </tr>\n",
              "  </thead>\n",
              "  <tbody>\n",
              "    <tr>\n",
              "      <th>0</th>\n",
              "      <td>1111</td>\n",
              "      <td>Roberts</td>\n",
              "      <td>Veronica</td>\n",
              "      <td>121</td>\n",
              "      <td>169553002</td>\n",
              "      <td>14896.56</td>\n",
              "    </tr>\n",
              "    <tr>\n",
              "      <th>1</th>\n",
              "      <td>2222</td>\n",
              "      <td>Gonzalez</td>\n",
              "      <td>Jacqueline</td>\n",
              "      <td>120.5</td>\n",
              "      <td>117015009</td>\n",
              "      <td>2070.44</td>\n",
              "    </tr>\n",
              "    <tr>\n",
              "      <th>2</th>\n",
              "      <td>3333</td>\n",
              "      <td>McMillin</td>\n",
              "      <td>Miranda</td>\n",
              "      <td>140</td>\n",
              "      <td>301807007</td>\n",
              "      <td>12914.35</td>\n",
              "    </tr>\n",
              "    <tr>\n",
              "      <th>3</th>\n",
              "      <td>4444</td>\n",
              "      <td>Silva</td>\n",
              "      <td>Joshua</td>\n",
              "      <td>131</td>\n",
              "      <td>430193006</td>\n",
              "      <td>416.69</td>\n",
              "    </tr>\n",
              "    <tr>\n",
              "      <th>4</th>\n",
              "      <td>5555</td>\n",
              "      <td>Anthony</td>\n",
              "      <td>Xavier</td>\n",
              "      <td>138.7</td>\n",
              "      <td>288086009</td>\n",
              "      <td>11354.55</td>\n",
              "    </tr>\n",
              "    <tr>\n",
              "      <th>5</th>\n",
              "      <td>6666</td>\n",
              "      <td>Washington</td>\n",
              "      <td>Mike</td>\n",
              "      <td>119</td>\n",
              "      <td>76601001</td>\n",
              "      <td>3001.57</td>\n",
              "    </tr>\n",
              "    <tr>\n",
              "      <th>6</th>\n",
              "      <td>7777</td>\n",
              "      <td>Martinez</td>\n",
              "      <td>Jennifer</td>\n",
              "      <td>142</td>\n",
              "      <td>5880005</td>\n",
              "      <td>516.65</td>\n",
              "    </tr>\n",
              "    <tr>\n",
              "      <th>7</th>\n",
              "      <td>8888</td>\n",
              "      <td>Rodriguez</td>\n",
              "      <td>Allen</td>\n",
              "      <td>118</td>\n",
              "      <td>11466000</td>\n",
              "      <td>612.34</td>\n",
              "    </tr>\n",
              "  </tbody>\n",
              "</table>\n",
              "</div>"
            ],
            "text/plain": [
              "  PatientID    LastName  ... ProcedureCode ProcedureCost\n",
              "0      1111     Roberts  ...     169553002      14896.56\n",
              "1      2222    Gonzalez  ...     117015009       2070.44\n",
              "2      3333    McMillin  ...     301807007      12914.35\n",
              "3      4444       Silva  ...     430193006        416.69\n",
              "4      5555     Anthony  ...     288086009      11354.55\n",
              "5      6666  Washington  ...      76601001       3001.57\n",
              "6      7777    Martinez  ...       5880005        516.65\n",
              "7      8888   Rodriguez  ...      11466000        612.34\n",
              "\n",
              "[8 rows x 6 columns]"
            ]
          },
          "metadata": {},
          "execution_count": 11
        }
      ]
    },
    {
      "cell_type": "markdown",
      "metadata": {
        "id": "Xz_1U-y4q1PM"
      },
      "source": [
        "##Step 3 - Connect to SQL and forward quick table to selected schema \n",
        "###Note: Removed personal login information for security purposes "
      ]
    },
    {
      "cell_type": "code",
      "metadata": {
        "id": "-dJ99LERkvGZ"
      },
      "source": [
        "MYSQL_HOSTNAME = '20.62.193.224'\n",
        "MYSQL_USER = 'INSERT HERE'\n",
        "MYSQL_PASSWORD = 'INSERT HERE'\n",
        "MYSQL_DATABASE = 'ahi'\n",
        "\n",
        "connection_string = f'mysql+pymysql://{MYSQL_USER}:{MYSQL_PASSWORD}@{MYSQL_HOSTNAME}:3305/{MYSQL_DATABASE}'\n",
        "engine = create_engine(connection_string)\n",
        "\n",
        "TABLENAME = MYSQL_USER + 'proceduregrouper'\n",
        "\n",
        "proceduregrouper.to_sql(TABLENAME, con=engine)"
      ],
      "execution_count": 12,
      "outputs": []
    },
    {
      "cell_type": "markdown",
      "metadata": {
        "id": "IjSQfu0htNk_"
      },
      "source": [
        "##Step 4 - Create Trigger within newly added table in schema \n",
        "###Note: The code below provides an error but does work (since the new table in schema now has a \"Triggers\" tab) "
      ]
    },
    {
      "cell_type": "code",
      "metadata": {
        "id": "ycFVGFYinJYJ"
      },
      "source": [
        "DELIMITER $$\n",
        "CREATE TRIGGER systolic BEFORE INSERT ON userproceduregrouper\n",
        "FOR EACH ROW \n",
        "BEGIN\n",
        "    IF NEW.SystolicBloodPressure >= 120 THEN \n",
        "    SIGNAL SQLSTATE '45000'\n",
        "    SET MESSAGE_TEXT = 'ERROR: Systolic blood pressure must be 120 mm Hg or below for procedure!';\n",
        "    END IF; \n",
        "END; $$"
      ],
      "execution_count": null,
      "outputs": []
    },
    {
      "cell_type": "markdown",
      "metadata": {
        "id": "2vyZL-nFwAfN"
      },
      "source": [
        "##Step 5 - Create Function within newly added table in schema "
      ]
    },
    {
      "cell_type": "code",
      "metadata": {
        "id": "sM_2ZR2snSwv"
      },
      "source": [
        "DELIMITER $$\n",
        "CREATE FUNCTION ProcedureCost(\n",
        "    cost DECIMAL(10,2)\n",
        ")\n",
        "\n",
        "RETURNS VARCHAR(20)\n",
        "DETERMINISTIC\n",
        "BEGIN\n",
        "DECLARE procedureCost VARCHAR(20);\n",
        "IF cost > 10000 THEN\n",
        "SET procedureCost = ‘expensive’;\n",
        "\n",
        "ELSEIF (cost >= 1000 AND\n",
        "credit <= 5000) THEN\n",
        "SET procedureCost = 'standard';\n",
        "\n",
        "ELSEIF cost < 1000 THEN\n",
        "SET procedureCost = 'cheap';\n",
        "END IF;\n",
        "-- return the procedure cost category\n",
        "RETURN (procedureCost);\n",
        "END$$\n",
        "DELIMITER ;"
      ],
      "execution_count": null,
      "outputs": []
    }
  ]
}